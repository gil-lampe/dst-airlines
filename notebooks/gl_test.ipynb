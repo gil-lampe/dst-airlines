{
 "cells": [
  {
   "cell_type": "code",
   "execution_count": 2,
   "metadata": {},
   "outputs": [
    {
     "name": "stdout",
     "output_type": "stream",
     "text": [
      "sys.path = ['/home/gil/miniconda3/envs/base_py_3_11/lib/python311.zip', '/home/gil/miniconda3/envs/base_py_3_11/lib/python3.11', '/home/gil/miniconda3/envs/base_py_3_11/lib/python3.11/lib-dynload', '', '/home/gil/miniconda3/envs/base_py_3_11/lib/python3.11/site-packages', '/home/gil/miniconda3/envs/base_py_3_11/lib/python3.11/site-packages/setuptools/_vendor']\n"
     ]
    }
   ],
   "source": [
    "from dotenv import load_dotenv\n",
    "import os\n",
    "import sys\n",
    "\n",
    "print(f\"{sys.path = }\")"
   ]
  },
  {
   "cell_type": "code",
   "execution_count": 1,
   "metadata": {},
   "outputs": [
    {
     "name": "stdout",
     "output_type": "stream",
     "text": [
      "sys.path = ['/home/gil/miniconda3/envs/base_py_3_11/lib/python311.zip', '/home/gil/miniconda3/envs/base_py_3_11/lib/python3.11', '/home/gil/miniconda3/envs/base_py_3_11/lib/python3.11/lib-dynload', '', '/home/gil/miniconda3/envs/base_py_3_11/lib/python3.11/site-packages', '/home/gil/miniconda3/envs/base_py_3_11/lib/python3.11/site-packages/setuptools/_vendor']\n",
      "exist /home/gil/projects/DST-Airlines/dst_airlines/data/../../logs\n",
      "__file__ = '/home/gil/projects/DST-Airlines/dst_airlines/utils.py'\n",
      "script_dir = '/home/gil/projects/DST-Airlines/dst_airlines'\n"
     ]
    }
   ],
   "source": [
    "from dotenv import load_dotenv\n",
    "import os\n",
    "import sys\n",
    "\n",
    "print(f\"{sys.path = }\")\n",
    "\n",
    "# Charger les variables d'environnement depuis le fichier .env\n",
    "load_dotenv()\n",
    "\n",
    "# Récupérer le chemin relatif du PYTHONPATH\n",
    "pythonpath = os.getenv('PYTHONPATH')\n",
    "if pythonpath not in sys.path:\n",
    "    sys.path.append(pythonpath)\n",
    "\n",
    "# Maintenant, vous pouvez importer votre package\n"
   ]
  },
  {
   "cell_type": "code",
   "execution_count": 1,
   "metadata": {},
   "outputs": [
    {
     "name": "stderr",
     "output_type": "stream",
     "text": [
      "[ERROR|utils|L28] 2024-08-15T17:43:44+0200: éàù\n",
      "[WARNING|utils|L31] 2024-08-15T17:43:44+0200: warning message\n",
      "[ERROR|utils|L32] 2024-08-15T17:43:44+0200: error message\n",
      "[CRITICAL|utils|L33] 2024-08-15T17:43:44+0200: critical message\n",
      "[ERROR|utils|L37] 2024-08-15T17:43:44+0200: exception message\n",
      "Traceback (most recent call last):\n",
      "  File \"/home/gil/projects/DST-Airlines/dst_airlines/utils.py\", line 35, in test_logging\n",
      "    1 / 0\n",
      "    ~~^~~\n",
      "ZeroDivisionError: division by zero\n"
     ]
    }
   ],
   "source": [
    "from dst_airlines import utils\n",
    "\n",
    "utils.test_logging()"
   ]
  },
  {
   "cell_type": "code",
   "execution_count": 10,
   "metadata": {},
   "outputs": [
    {
     "name": "stdout",
     "output_type": "stream",
     "text": [
      "2ta6x3z4rsn7y83p3a9ywnka\n"
     ]
    }
   ],
   "source": [
    "import requests\n",
    "import os\n",
    "from dotenv import load_dotenv\n",
    "\n",
    "load_dotenv()\n",
    "\n",
    "get_cred_request = {\"client_id\": os.getenv('CLIENT_ID'),\n",
    "             \"client_secret\": os.getenv('CLIENT_SECRET'),\n",
    "             \"grant_type\": \"client_credentials\"}\n",
    "\n",
    "\n",
    "\n",
    "\n",
    "\n",
    "r = requests.post('https://api.lufthansa.com/v1/oauth/token', data=get_cred_request)\n",
    "\n",
    "print(f'{r.json()[\"access_token\"]}')"
   ]
  },
  {
   "cell_type": "code",
   "execution_count": 1,
   "metadata": {},
   "outputs": [
    {
     "name": "stdout",
     "output_type": "stream",
     "text": [
      "client_id = 'g5bhrh7kxazggrcz596w2gypv'\n",
      "client_secret = 'm9rYT9TUgA'\n",
      "r.text = '{\"access_token\":\"fkb9vev56nvb45zq2bj5umdd\",\"token_type\":\"bearer\",\"expires_in\":129600}'\n"
     ]
    },
    {
     "data": {
      "text/plain": [
       "'fkb9vev56nvb45zq2bj5umdd'"
      ]
     },
     "execution_count": 1,
     "metadata": {},
     "output_type": "execute_result"
    }
   ],
   "source": [
    "from dst_airlines import utils\n",
    "\n",
    "utils.get_lh_api_token()"
   ]
  },
  {
   "cell_type": "code",
   "execution_count": 1,
   "metadata": {},
   "outputs": [
    {
     "name": "stdout",
     "output_type": "stream",
     "text": [
      "os.getenv(\"CLIENT_SECRET\") = 'm9rYT9TUgA'\n"
     ]
    }
   ],
   "source": [
    "from dst_airlines import utils\n",
    "import os\n",
    "\n",
    "\n",
    "print(f'{os.getenv(\"CLIENT_SECRET\") = }')"
   ]
  },
  {
   "cell_type": "code",
   "execution_count": 3,
   "metadata": {},
   "outputs": [
    {
     "name": "stdout",
     "output_type": "stream",
     "text": [
      "project_root = '/home/gil/projects/DST-Airlines/'\n"
     ]
    }
   ],
   "source": [
    "script_dir = '/home/gil/projects/DST-Airlines/dst_airlines'\n",
    "project_root = script_dir.split(\"dst_airlines\")[-2]\n",
    "print(f'{project_root = }')"
   ]
  },
  {
   "cell_type": "code",
   "execution_count": 2,
   "metadata": {},
   "outputs": [
    {
     "name": "stdout",
     "output_type": "stream",
     "text": [
      "script_dir = '/home/gil/projects/DST-Airlines/dst_airlines'\n",
      "project_root = '/home/gil/projects/DST-Airlines/'\n",
      "path = '/home/gil/projects/DST-Airlines/data/raw/test'\n"
     ]
    }
   ],
   "source": [
    "path = utils.build_data_storage_path(\"test\", \"raw\")\n",
    "print(f'{path = }')"
   ]
  },
  {
   "cell_type": "code",
   "execution_count": null,
   "metadata": {},
   "outputs": [],
   "source": []
  }
 ],
 "metadata": {
  "kernelspec": {
   "display_name": "base",
   "language": "python",
   "name": "python3"
  },
  "language_info": {
   "codemirror_mode": {
    "name": "ipython",
    "version": 3
   },
   "file_extension": ".py",
   "mimetype": "text/x-python",
   "name": "python",
   "nbconvert_exporter": "python",
   "pygments_lexer": "ipython3",
   "version": "3.11.9"
  }
 },
 "nbformat": 4,
 "nbformat_minor": 2
}
